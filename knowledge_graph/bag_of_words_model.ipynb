{
 "cells": [
  {
   "cell_type": "markdown",
   "id": "b37c6bf7",
   "metadata": {},
   "source": [
    "# Build knowledge graph via deep learning\n",
    "\n",
    "## Problem\n",
    "What are shared entities in all defi whitepapers?\n",
    "\n",
    "## Solution\n",
    "With bag of words model, we will extract common entities in between whitepapers.\n",
    "\n",
    "## Expected outcome\n",
    "1. Top ten shared entities are extracted.\n",
    "2. Top ten shared trigram are extracted.\n",
    "\n",
    "Authors:\n",
    "* Xiaoyuan Liu\n",
    "* Neel Kovelamudi\n",
    "* Zijian Xie\n",
    "* Mu He\n",
    "* Cuiqianhe Du\n",
    "* Nicholas Lin\n",
    "* Austin Wei\n",
    "\n",
    "Principal Investigator: \n",
    "* Dawn Song\n",
    "\n",
    "Date: Fall 2021\n",
    "\n",
    "References: \n",
    "[Bag_of_words](https://www.analyticsvidhya.com/blog/2021/08/a-friendly-guide-to-nlp-bag-of-words-with-python-example/)"
   ]
  },
  {
   "cell_type": "markdown",
   "id": "fdd8d5a2",
   "metadata": {},
   "source": [
    "### Import library"
   ]
  },
  {
   "cell_type": "code",
   "execution_count": 1,
   "id": "73538a91",
   "metadata": {},
   "outputs": [],
   "source": [
    "import pandas as pd\n",
    "import numpy as np\n",
    "import collections\n",
    "import re\n",
    "import os\n",
    "import string\n",
    "pd.set_option('display.max_colwidth', 200)\n",
    "from sklearn.feature_extraction.text import CountVectorizer"
   ]
  },
  {
   "cell_type": "code",
   "execution_count": 2,
   "id": "406767f5",
   "metadata": {},
   "outputs": [],
   "source": [
    "#!pip install BeautifulSoup4\n",
    "#import nltk\n",
    "#nltk.download()  # Download text data sets, including stop words"
   ]
  },
  {
   "cell_type": "code",
   "execution_count": 3,
   "id": "016f00ed",
   "metadata": {},
   "outputs": [],
   "source": [
    "# Import BeautifulSoup into your workspace\n",
    "from bs4 import BeautifulSoup         "
   ]
  },
  {
   "cell_type": "code",
   "execution_count": 4,
   "id": "1e3181b9",
   "metadata": {},
   "outputs": [
    {
     "name": "stdout",
     "output_type": "stream",
     "text": [
      "['i', 'me', 'my', 'myself', 'we', 'our', 'ours', 'ourselves', 'you', \"you're\", \"you've\", \"you'll\", \"you'd\", 'your', 'yours', 'yourself', 'yourselves', 'he', 'him', 'his', 'himself', 'she', \"she's\", 'her', 'hers', 'herself', 'it', \"it's\", 'its', 'itself', 'they', 'them', 'their', 'theirs', 'themselves', 'what', 'which', 'who', 'whom', 'this', 'that', \"that'll\", 'these', 'those', 'am', 'is', 'are', 'was', 'were', 'be', 'been', 'being', 'have', 'has', 'had', 'having', 'do', 'does', 'did', 'doing', 'a', 'an', 'the', 'and', 'but', 'if', 'or', 'because', 'as', 'until', 'while', 'of', 'at', 'by', 'for', 'with', 'about', 'against', 'between', 'into', 'through', 'during', 'before', 'after', 'above', 'below', 'to', 'from', 'up', 'down', 'in', 'out', 'on', 'off', 'over', 'under', 'again', 'further', 'then', 'once', 'here', 'there', 'when', 'where', 'why', 'how', 'all', 'any', 'both', 'each', 'few', 'more', 'most', 'other', 'some', 'such', 'no', 'nor', 'not', 'only', 'own', 'same', 'so', 'than', 'too', 'very', 's', 't', 'can', 'will', 'just', 'don', \"don't\", 'should', \"should've\", 'now', 'd', 'll', 'm', 'o', 're', 've', 'y', 'ain', 'aren', \"aren't\", 'couldn', \"couldn't\", 'didn', \"didn't\", 'doesn', \"doesn't\", 'hadn', \"hadn't\", 'hasn', \"hasn't\", 'haven', \"haven't\", 'isn', \"isn't\", 'ma', 'mightn', \"mightn't\", 'mustn', \"mustn't\", 'needn', \"needn't\", 'shan', \"shan't\", 'shouldn', \"shouldn't\", 'wasn', \"wasn't\", 'weren', \"weren't\", 'won', \"won't\", 'wouldn', \"wouldn't\"]\n"
     ]
    }
   ],
   "source": [
    "from nltk.corpus import stopwords # Import the stop word list\n",
    "print(stopwords.words(\"english\"))"
   ]
  },
  {
   "cell_type": "markdown",
   "id": "34f88992",
   "metadata": {},
   "source": [
    "### Whitepaper datasource"
   ]
  },
  {
   "cell_type": "code",
   "execution_count": 5,
   "id": "4c198f81",
   "metadata": {},
   "outputs": [],
   "source": [
    "def read_whitepapers(filename):\n",
    "    directory = \"../whitepapers/top20_whitepapers/\"\n",
    "    texts = []\n",
    "    for entry in os.scandir(directory):\n",
    "        if (entry.path.endswith(filename) and entry.is_file()):\n",
    "            a_dataframe = pd.read_csv(entry.path, names=[filename], sep=\"\\n\")\n",
    "    a_dataframe.replace('', np.nan, inplace=True)\n",
    "    a_dataframe.dropna(inplace=True)\n",
    "    return a_dataframe"
   ]
  },
  {
   "cell_type": "code",
   "execution_count": 6,
   "id": "52911c9f",
   "metadata": {},
   "outputs": [
    {
     "data": {
      "text/html": [
       "<div>\n",
       "<style scoped>\n",
       "    .dataframe tbody tr th:only-of-type {\n",
       "        vertical-align: middle;\n",
       "    }\n",
       "\n",
       "    .dataframe tbody tr th {\n",
       "        vertical-align: top;\n",
       "    }\n",
       "\n",
       "    .dataframe thead th {\n",
       "        text-align: right;\n",
       "    }\n",
       "</style>\n",
       "<table border=\"1\" class=\"dataframe\">\n",
       "  <thead>\n",
       "    <tr style=\"text-align: right;\">\n",
       "      <th></th>\n",
       "      <th>whitepapers</th>\n",
       "    </tr>\n",
       "  </thead>\n",
       "  <tbody>\n",
       "    <tr>\n",
       "      <th>0</th>\n",
       "      <td>Bitcoin: A Peer-to-Peer Electronic Cash System</td>\n",
       "    </tr>\n",
       "    <tr>\n",
       "      <th>1</th>\n",
       "      <td>Satoshi Nakamoto</td>\n",
       "    </tr>\n",
       "    <tr>\n",
       "      <th>2</th>\n",
       "      <td>satoshin@gmx.com</td>\n",
       "    </tr>\n",
       "    <tr>\n",
       "      <th>3</th>\n",
       "      <td>www.bitcoin.org</td>\n",
       "    </tr>\n",
       "    <tr>\n",
       "      <th>4</th>\n",
       "      <td>Abstract.   A purely peer-to-peer version of electronic cash would allow online</td>\n",
       "    </tr>\n",
       "    <tr>\n",
       "      <th>...</th>\n",
       "      <td>...</td>\n",
       "    </tr>\n",
       "    <tr>\n",
       "      <th>348</th>\n",
       "      <td>http://www.hashcash.org/papers/hashcash.pdf, 2002.</td>\n",
       "    </tr>\n",
       "    <tr>\n",
       "      <th>349</th>\n",
       "      <td>[7] R.C. Merkle, \"Protocols for public key cryptosystems,\" In Proc. 1980 Symposium on Security and</td>\n",
       "    </tr>\n",
       "    <tr>\n",
       "      <th>350</th>\n",
       "      <td>Privacy, IEEE Computer Society, pages 122-133, April 1980.</td>\n",
       "    </tr>\n",
       "    <tr>\n",
       "      <th>351</th>\n",
       "      <td>[8] W. Feller, \"An introduction to probability theory and its applications,\" 1957.</td>\n",
       "    </tr>\n",
       "    <tr>\n",
       "      <th>352</th>\n",
       "      <td>9</td>\n",
       "    </tr>\n",
       "  </tbody>\n",
       "</table>\n",
       "<p>353 rows × 1 columns</p>\n",
       "</div>"
      ],
      "text/plain": [
       "                                                                                             whitepapers\n",
       "0                                                         Bitcoin: A Peer-to-Peer Electronic Cash System\n",
       "1                                                                                       Satoshi Nakamoto\n",
       "2                                                                                       satoshin@gmx.com\n",
       "3                                                                                        www.bitcoin.org\n",
       "4                       Abstract.   A purely peer-to-peer version of electronic cash would allow online \n",
       "..                                                                                                   ...\n",
       "348                                                   http://www.hashcash.org/papers/hashcash.pdf, 2002.\n",
       "349  [7] R.C. Merkle, \"Protocols for public key cryptosystems,\" In Proc. 1980 Symposium on Security and \n",
       "350                                           Privacy, IEEE Computer Society, pages 122-133, April 1980.\n",
       "351                   [8] W. Feller, \"An introduction to probability theory and its applications,\" 1957.\n",
       "352                                                                                                    9\n",
       "\n",
       "[353 rows x 1 columns]"
      ]
     },
     "execution_count": 6,
     "metadata": {},
     "output_type": "execute_result"
    }
   ],
   "source": [
    "bitcoin_filename=\"Bitcoin.txt\"\n",
    "whitepapers = read_whitepapers(bitcoin_filename)\n",
    "whitepapers.rename(columns={bitcoin_filename: \"whitepapers\"}, inplace=True)\n",
    "whitepapers"
   ]
  },
  {
   "cell_type": "code",
   "execution_count": 7,
   "id": "8584fca6",
   "metadata": {},
   "outputs": [],
   "source": [
    "filenames = ['Algorand.txt', 'Avalanche.txt', 'Binance.txt', 'Cardano.txt', 'Chainlink.txt',\n",
    "            'Crypto_com.txt', 'Ethereum.txt', 'FTX_token.txt', 'PolkaDot.txt', 'Polygon.txt', 'Ripple.txt', \n",
    "            'ShibaInu.txt', 'Solana.txt', 'Terra.txt', 'Tether.txt', 'Tron.txt', 'Uniswap.txt', 'Wrapped.txt']"
   ]
  },
  {
   "cell_type": "code",
   "execution_count": 8,
   "id": "ffbb718a",
   "metadata": {},
   "outputs": [],
   "source": [
    "def create_dataframe(whitepapers):\n",
    "    for i in filenames:\n",
    "        whitepaper = read_whitepapers(i)\n",
    "        whitepaper.rename(columns={i : \"whitepapers\"}, inplace=True)\n",
    "        whitepapers = whitepapers.append(whitepaper)\n",
    "    return whitepapers"
   ]
  },
  {
   "cell_type": "markdown",
   "id": "6ce4a009",
   "metadata": {},
   "source": [
    "### Create dataframe\n",
    "Append whitepaper dataframe one after another"
   ]
  },
  {
   "cell_type": "code",
   "execution_count": 9,
   "id": "30690eea",
   "metadata": {},
   "outputs": [
    {
     "data": {
      "text/html": [
       "<div>\n",
       "<style scoped>\n",
       "    .dataframe tbody tr th:only-of-type {\n",
       "        vertical-align: middle;\n",
       "    }\n",
       "\n",
       "    .dataframe tbody tr th {\n",
       "        vertical-align: top;\n",
       "    }\n",
       "\n",
       "    .dataframe thead th {\n",
       "        text-align: right;\n",
       "    }\n",
       "</style>\n",
       "<table border=\"1\" class=\"dataframe\">\n",
       "  <thead>\n",
       "    <tr style=\"text-align: right;\">\n",
       "      <th></th>\n",
       "      <th>whitepapers</th>\n",
       "    </tr>\n",
       "  </thead>\n",
       "  <tbody>\n",
       "    <tr>\n",
       "      <th>0</th>\n",
       "      <td>Bitcoin: A Peer-to-Peer Electronic Cash System</td>\n",
       "    </tr>\n",
       "    <tr>\n",
       "      <th>1</th>\n",
       "      <td>Satoshi Nakamoto</td>\n",
       "    </tr>\n",
       "    <tr>\n",
       "      <th>2</th>\n",
       "      <td>satoshin@gmx.com</td>\n",
       "    </tr>\n",
       "    <tr>\n",
       "      <th>3</th>\n",
       "      <td>www.bitcoin.org</td>\n",
       "    </tr>\n",
       "    <tr>\n",
       "      <th>4</th>\n",
       "      <td>Abstract.   A purely peer-to-peer version of electronic cash would allow online</td>\n",
       "    </tr>\n",
       "    <tr>\n",
       "      <th>...</th>\n",
       "      <td>...</td>\n",
       "    </tr>\n",
       "    <tr>\n",
       "      <th>452</th>\n",
       "      <td>​</td>\n",
       "    </tr>\n",
       "    <tr>\n",
       "      <th>453</th>\n",
       "      <td></td>\n",
       "    </tr>\n",
       "    <tr>\n",
       "      <th>454</th>\n",
       "      <td></td>\n",
       "    </tr>\n",
       "    <tr>\n",
       "      <th>455</th>\n",
       "      <td></td>\n",
       "    </tr>\n",
       "    <tr>\n",
       "      <th>456</th>\n",
       "      <td></td>\n",
       "    </tr>\n",
       "  </tbody>\n",
       "</table>\n",
       "<p>20695 rows × 1 columns</p>\n",
       "</div>"
      ],
      "text/plain": [
       "                                                                          whitepapers\n",
       "0                                      Bitcoin: A Peer-to-Peer Electronic Cash System\n",
       "1                                                                    Satoshi Nakamoto\n",
       "2                                                                    satoshin@gmx.com\n",
       "3                                                                     www.bitcoin.org\n",
       "4    Abstract.   A purely peer-to-peer version of electronic cash would allow online \n",
       "..                                                                                ...\n",
       "452                                                                                 ​\n",
       "453                                                                                  \n",
       "454                                                                                  \n",
       "455                                                                                  \n",
       "456                                                                                  \n",
       "\n",
       "[20695 rows x 1 columns]"
      ]
     },
     "execution_count": 9,
     "metadata": {},
     "output_type": "execute_result"
    }
   ],
   "source": [
    "whitepapers = create_dataframe(whitepapers)\n",
    "whitepapers"
   ]
  },
  {
   "cell_type": "markdown",
   "id": "89e2b2f7",
   "metadata": {},
   "source": [
    "### Data cleaning/preprocessing"
   ]
  },
  {
   "cell_type": "code",
   "execution_count": 10,
   "id": "a2cfea1c",
   "metadata": {},
   "outputs": [],
   "source": [
    "def sentence_to_words(sentence):\n",
    "    # Function to convert a raw sentence to a string of words\n",
    "    # The input is a single string (a whitepaper sentence), and \n",
    "    # the output is a single string (a preprocessed sentence)\n",
    "    #\n",
    "    # 1. Remove HTML\n",
    "    sentence = BeautifulSoup(sentence).get_text() \n",
    "    #\n",
    "    # 2. Remove non-letters        \n",
    "    letters_only = re.sub(\"[^a-zA-Z]\", \" \", sentence) \n",
    "    #\n",
    "    # 3. Convert to lower case, split into individual words\n",
    "    words = letters_only.lower().split()                             \n",
    "    #\n",
    "    # 4. In Python, searching a set is much faster than searching\n",
    "    #   a list, so convert the stop words to a set\n",
    "    stops = set(stopwords.words(\"english\"))                  \n",
    "    # \n",
    "    # 5. Remove stop words\n",
    "    meaningful_words = [w for w in words if not w in stops]   \n",
    "    #\n",
    "    # 6. Join the words back into one string separated by space, \n",
    "    # and return the result.\n",
    "    return( \" \".join( meaningful_words ))"
   ]
  },
  {
   "cell_type": "code",
   "execution_count": 11,
   "id": "24d932e0",
   "metadata": {},
   "outputs": [
    {
     "name": "stderr",
     "output_type": "stream",
     "text": [
      "/Users/hemu/anaconda3/lib/python3.6/site-packages/bs4/__init__.py:438: MarkupResemblesLocatorWarning: \"https://ﬁles.avalabs.org/papers/token.pdf\" looks like a URL. Beautiful Soup is not an HTTP client. You should probably use an HTTP client like requests to get the document behind the URL, and feed that document to Beautiful Soup.\n",
      "  MarkupResemblesLocatorWarning\n",
      "/Users/hemu/anaconda3/lib/python3.6/site-packages/bs4/__init__.py:438: MarkupResemblesLocatorWarning: \"https://ipfs.io/ipfs/QmUy4jh5mGNZvLkjies1RWM4YuvJh5o2FYopNPVYwrRVGV\" looks like a URL. Beautiful Soup is not an HTTP client. You should probably use an HTTP client like requests to get the document behind the URL, and feed that document to Beautiful Soup.\n",
      "  MarkupResemblesLocatorWarning\n",
      "/Users/hemu/anaconda3/lib/python3.6/site-packages/bs4/__init__.py:438: MarkupResemblesLocatorWarning: \"https://www.coindesk.com/ethereum-classic-suffers-second-51-attack-in-a-week.\" looks like a URL. Beautiful Soup is not an HTTP client. You should probably use an HTTP client like requests to get the document behind the URL, and feed that document to Beautiful Soup.\n",
      "  MarkupResemblesLocatorWarning\n",
      "/Users/hemu/anaconda3/lib/python3.6/site-packages/bs4/__init__.py:438: MarkupResemblesLocatorWarning: \"http://ethstats.netisneededtomonitorthelife-signsofthenetworkasawholeandﬂagpotentiallydisruptive\" looks like a URL. Beautiful Soup is not an HTTP client. You should probably use an HTTP client like requests to get the document behind the URL, and feed that document to Beautiful Soup.\n",
      "  MarkupResemblesLocatorWarning\n",
      "/Users/hemu/anaconda3/lib/python3.6/site-packages/bs4/__init__.py:438: MarkupResemblesLocatorWarning: \"https://github.com/maticnetwork/contracts.\" looks like a URL. Beautiful Soup is not an HTTP client. You should probably use an HTTP client like requests to get the document behind the URL, and feed that document to Beautiful Soup.\n",
      "  MarkupResemblesLocatorWarning\n",
      "/Users/hemu/anaconda3/lib/python3.6/site-packages/bs4/__init__.py:438: MarkupResemblesLocatorWarning: \"https://medium.com/matic-network/ethereum-in-realtime-dagger-98ee2d717c76\" looks like a URL. Beautiful Soup is not an HTTP client. You should probably use an HTTP client like requests to get the document behind the URL, and feed that document to Beautiful Soup.\n",
      "  MarkupResemblesLocatorWarning\n",
      "/Users/hemu/anaconda3/lib/python3.6/site-packages/bs4/__init__.py:438: MarkupResemblesLocatorWarning: \"https://medium.com/matic-network/understanding-dagger-453d90480c51\" looks like a URL. Beautiful Soup is not an HTTP client. You should probably use an HTTP client like requests to get the document behind the URL, and feed that document to Beautiful Soup.\n",
      "  MarkupResemblesLocatorWarning\n",
      "/Users/hemu/anaconda3/lib/python3.6/site-packages/bs4/__init__.py:438: MarkupResemblesLocatorWarning: \"https://www.linkedin.com/in/jdkanani/\" looks like a URL. Beautiful Soup is not an HTTP client. You should probably use an HTTP client like requests to get the document behind the URL, and feed that document to Beautiful Soup.\n",
      "  MarkupResemblesLocatorWarning\n",
      "/Users/hemu/anaconda3/lib/python3.6/site-packages/bs4/__init__.py:438: MarkupResemblesLocatorWarning: \"https://www.linkedin.com/in/anuragarjun/\" looks like a URL. Beautiful Soup is not an HTTP client. You should probably use an HTTP client like requests to get the document behind the URL, and feed that document to Beautiful Soup.\n",
      "  MarkupResemblesLocatorWarning\n",
      "/Users/hemu/anaconda3/lib/python3.6/site-packages/bs4/__init__.py:438: MarkupResemblesLocatorWarning: \"https://www.linkedin.com/in/sandeep-nailwal-60709a33/\" looks like a URL. Beautiful Soup is not an HTTP client. You should probably use an HTTP client like requests to get the document behind the URL, and feed that document to Beautiful Soup.\n",
      "  MarkupResemblesLocatorWarning\n",
      "/Users/hemu/anaconda3/lib/python3.6/site-packages/bs4/__init__.py:438: MarkupResemblesLocatorWarning: \"https://cloud.google.com/spanner/docs/true-time-external-consistency\" looks like a URL. Beautiful Soup is not an HTTP client. You should probably use an HTTP client like requests to get the document behind the URL, and feed that document to Beautiful Soup.\n",
      "  MarkupResemblesLocatorWarning\n",
      "/Users/hemu/anaconda3/lib/python3.6/site-packages/bs4/__init__.py:438: MarkupResemblesLocatorWarning: \"http://www.inf.usi.ch/faculty/pedone/Paper/2002/2002EDCCb.pdf\" looks like a URL. Beautiful Soup is not an HTTP client. You should probably use an HTTP client like requests to get the document behind the URL, and feed that document to Beautiful Soup.\n",
      "  MarkupResemblesLocatorWarning\n",
      "/Users/hemu/anaconda3/lib/python3.6/site-packages/bs4/__init__.py:438: MarkupResemblesLocatorWarning: \"https://tendermint.com/static/docs/tendermint.pdf\" looks like a URL. Beautiful Soup is not an HTTP client. You should probably use an HTTP client like requests to get the document behind the URL, and feed that document to Beautiful Soup.\n",
      "  MarkupResemblesLocatorWarning\n",
      "/Users/hemu/anaconda3/lib/python3.6/site-packages/bs4/__init__.py:438: MarkupResemblesLocatorWarning: \"https://s3.amazonaws.com/hedera-hashgraph/hh-whitepaper-\" looks like a URL. Beautiful Soup is not an HTTP client. You should probably use an HTTP client like requests to get the document behind the URL, and feed that document to Beautiful Soup.\n",
      "  MarkupResemblesLocatorWarning\n",
      "/Users/hemu/anaconda3/lib/python3.6/site-packages/bs4/__init__.py:438: MarkupResemblesLocatorWarning: \"https://filecoin.io/proof-of-replication.pdf\" looks like a URL. Beautiful Soup is not an HTTP client. You should probably use an HTTP client like requests to get the document behind the URL, and feed that document to Beautiful Soup.\n",
      "  MarkupResemblesLocatorWarning\n",
      "/Users/hemu/anaconda3/lib/python3.6/site-packages/bs4/__init__.py:438: MarkupResemblesLocatorWarning: \"https://blog.ethereum.org/2014/01/15/slasher-a-punitive-\" looks like a URL. Beautiful Soup is not an HTTP client. You should probably use an HTTP client like requests to get the document behind the URL, and feed that document to Beautiful Soup.\n",
      "  MarkupResemblesLocatorWarning\n",
      "/Users/hemu/anaconda3/lib/python3.6/site-packages/bs4/__init__.py:438: MarkupResemblesLocatorWarning: \"https://github.com/BitShares/bitshares/wiki/Delegated-Proof-\" looks like a URL. Beautiful Soup is not an HTTP client. You should probably use an HTTP client like requests to get the document behind the URL, and feed that document to Beautiful Soup.\n",
      "  MarkupResemblesLocatorWarning\n",
      "/Users/hemu/anaconda3/lib/python3.6/site-packages/bs4/__init__.py:438: MarkupResemblesLocatorWarning: \"http://ieeexplore.ieee.org/document/7555336/\" looks like a URL. Beautiful Soup is not an HTTP client. You should probably use an HTTP client like requests to get the document behind the URL, and feed that document to Beautiful Soup.\n",
      "  MarkupResemblesLocatorWarning\n",
      "/Users/hemu/anaconda3/lib/python3.6/site-packages/bs4/__init__.py:438: MarkupResemblesLocatorWarning: \"https://arxiv.org/pdf/1710.09437.pdf\" looks like a URL. Beautiful Soup is not an HTTP client. You should probably use an HTTP client like requests to get the document behind the URL, and feed that document to Beautiful Soup.\n",
      "  MarkupResemblesLocatorWarning\n",
      "/Users/hemu/anaconda3/lib/python3.6/site-packages/bs4/__init__.py:438: MarkupResemblesLocatorWarning: \"https://samczsun.com/taking-undercollateralized-loans-for-fun-and-\" looks like a URL. Beautiful Soup is not an HTTP client. You should probably use an HTTP client like requests to get the document behind the URL, and feed that document to Beautiful Soup.\n",
      "  MarkupResemblesLocatorWarning\n"
     ]
    },
    {
     "data": {
      "text/plain": [
       "282                                                   sequence prior event consumers\n",
       "1600                                                                               w\n",
       "3187          sign messages inside key valid message space respectively remark proxy\n",
       "570     matic network well seamless mechanism connect browser based dapps mobile app\n",
       "28                                                                      introduction\n",
       "Name: whitepapers, dtype: object"
      ]
     },
     "execution_count": 11,
     "metadata": {},
     "output_type": "execute_result"
    }
   ],
   "source": [
    "whitepapers['whitepapers']=whitepapers['whitepapers'].apply(lambda x:sentence_to_words(x))\n",
    "whitepapers['whitepapers'].sample(5)"
   ]
  },
  {
   "cell_type": "markdown",
   "id": "aec97c64",
   "metadata": {},
   "source": [
    "### CountVectorizer"
   ]
  },
  {
   "cell_type": "code",
   "execution_count": 12,
   "id": "242a9073",
   "metadata": {
    "scrolled": true
   },
   "outputs": [
    {
     "name": "stdout",
     "output_type": "stream",
     "text": [
      "(20695, 13802)\n"
     ]
    }
   ],
   "source": [
    "vectorizer1 = CountVectorizer(stop_words='english')\n",
    "bow_features = vectorizer1.fit_transform(whitepapers['whitepapers'])\n",
    "vocabulary1 = vectorizer1.get_feature_names()\n",
    "bow_features = bow_features.toarray()\n",
    "print(bow_features.shape)"
   ]
  },
  {
   "cell_type": "markdown",
   "id": "c3e3aaaa",
   "metadata": {},
   "source": [
    "### Count of each word in the vocabulary"
   ]
  },
  {
   "cell_type": "code",
   "execution_count": 13,
   "id": "24be3eb5",
   "metadata": {},
   "outputs": [
    {
     "data": {
      "text/plain": [
       "[('chain', 719),\n",
       " ('network', 660),\n",
       " ('block', 612),\n",
       " ('data', 601),\n",
       " ('transaction', 593),\n",
       " ('protocol', 500),\n",
       " ('transactions', 490),\n",
       " ('crypto', 485),\n",
       " ('nodes', 468),\n",
       " ('cid', 429)]"
      ]
     },
     "execution_count": 13,
     "metadata": {},
     "output_type": "execute_result"
    }
   ],
   "source": [
    "# Sum up the counts of each vocabulary word\n",
    "count_sum1 = np.sum(bow_features, axis=0)\n",
    "\n",
    "# For each, print the vocabulary word and the number of times it \n",
    "# appears in the training set\n",
    "paired1 =  list(zip(vocabulary1, count_sum1))\n",
    "\n",
    "# reverse sort occurence of words\n",
    "bow_occ = sorted(paired1, key = lambda x: x[1], reverse=True)\n",
    "bow_occ[:10]"
   ]
  },
  {
   "cell_type": "markdown",
   "id": "3bb8c383",
   "metadata": {},
   "source": [
    "### Actual result\n",
    "The previous column shows top 10 occurence in bag of words model among 20 whitepapers"
   ]
  },
  {
   "cell_type": "markdown",
   "id": "eb6846ce",
   "metadata": {},
   "source": [
    "### Trigram"
   ]
  },
  {
   "cell_type": "code",
   "execution_count": 14,
   "id": "46cb9c74",
   "metadata": {},
   "outputs": [
    {
     "name": "stdout",
     "output_type": "stream",
     "text": [
      "(20695, 65783)\n"
     ]
    }
   ],
   "source": [
    "vectorizer2 = CountVectorizer(stop_words='english',ngram_range=(3, 3))\n",
    "tri_features = vectorizer2.fit_transform(whitepapers['whitepapers'])\n",
    "vocabulary2 = vectorizer2.get_feature_names()\n",
    "tri_features = tri_features.toarray()\n",
    "print(tri_features.shape)"
   ]
  },
  {
   "cell_type": "code",
   "execution_count": 15,
   "id": "4d5577e7",
   "metadata": {},
   "outputs": [
    {
     "data": {
      "text/plain": [
       "[('cid cid cid', 46),\n",
       " ('crypto org chain', 46),\n",
       " ('crypto com app', 40),\n",
       " ('matic development team', 24),\n",
       " ('heterogeneous multi chain', 23),\n",
       " ('crypto com exchange', 22),\n",
       " ('www shibatoken com', 22),\n",
       " ('multi chain framework', 21),\n",
       " ('paper www shibatoken', 21),\n",
       " ('polkadot vision heterogeneous', 21)]"
      ]
     },
     "execution_count": 15,
     "metadata": {},
     "output_type": "execute_result"
    }
   ],
   "source": [
    "# Sum up the counts of each vocabulary word\n",
    "count_sum2 = np.sum(tri_features, axis=0)\n",
    "\n",
    "# For each, print the vocabulary word and the number of times it \n",
    "# appears in the training set\n",
    "paired2 =  list(zip(vocabulary2, count_sum2))\n",
    "\n",
    "# reverse sort occurence of words\n",
    "tri_occ = sorted(paired2, key = lambda x: x[1], reverse=True)\n",
    "tri_occ[:10]"
   ]
  },
  {
   "cell_type": "markdown",
   "id": "12ff0f11",
   "metadata": {},
   "source": [
    "### Actual result\n",
    "The previous column shows top 10 occurence in trigram model among 20 whitepapers"
   ]
  },
  {
   "cell_type": "code",
   "execution_count": null,
   "id": "619adf18",
   "metadata": {},
   "outputs": [],
   "source": []
  }
 ],
 "metadata": {
  "kernelspec": {
   "display_name": "Python 3",
   "language": "python",
   "name": "python3"
  },
  "language_info": {
   "codemirror_mode": {
    "name": "ipython",
    "version": 3
   },
   "file_extension": ".py",
   "mimetype": "text/x-python",
   "name": "python",
   "nbconvert_exporter": "python",
   "pygments_lexer": "ipython3",
   "version": "3.6.6"
  }
 },
 "nbformat": 4,
 "nbformat_minor": 5
}
