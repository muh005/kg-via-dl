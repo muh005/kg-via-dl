{
 "cells": [
  {
   "cell_type": "markdown",
   "id": "fdd8d5a2",
   "metadata": {},
   "source": [
    "### Import library"
   ]
  },
  {
   "cell_type": "code",
   "execution_count": 1,
   "id": "73538a91",
   "metadata": {},
   "outputs": [],
   "source": [
    "import warnings\n",
    "warnings.filterwarnings(\"ignore\")\n",
    "import pandas as pd\n",
    "import numpy as np\n",
    "import collections\n",
    "import re\n",
    "import os\n",
    "import string\n",
    "pd.set_option('display.max_colwidth', 200)\n",
    "from sklearn.feature_extraction.text import CountVectorizer"
   ]
  },
  {
   "cell_type": "code",
   "execution_count": 2,
   "id": "406767f5",
   "metadata": {},
   "outputs": [],
   "source": [
    "#!pip install BeautifulSoup4\n",
    "# import nltk\n",
    "# nltk.download()  # Download text data sets, including stop words"
   ]
  },
  {
   "cell_type": "code",
   "execution_count": 3,
   "id": "1e3181b9",
   "metadata": {},
   "outputs": [],
   "source": [
    "from nltk.corpus import stopwords # Import the stop word list\n",
    "from collections import Counter\n",
    "from nltk.util import ngrams\n",
    "from nltk import word_tokenize, pos_tag\n",
    "from nltk.stem import WordNetLemmatizer"
   ]
  },
  {
   "cell_type": "code",
   "execution_count": 4,
   "id": "a98f1fe0-dcf2-4e47-8fb0-726bd1f9c7d9",
   "metadata": {},
   "outputs": [],
   "source": [
    "lemmatizer = WordNetLemmatizer()"
   ]
  },
  {
   "cell_type": "code",
   "execution_count": 5,
   "id": "4a587e8c-d2d7-4f9a-8d5f-e18ef62e8de8",
   "metadata": {},
   "outputs": [
    {
     "data": {
      "text/plain": [
       "'require'"
      ]
     },
     "execution_count": 5,
     "metadata": {},
     "output_type": "execute_result"
    }
   ],
   "source": [
    "lemmatizer.lemmatize(\"requires\", pos='v')"
   ]
  },
  {
   "cell_type": "markdown",
   "id": "34f88992",
   "metadata": {
    "tags": []
   },
   "source": [
    "### Whitepaper datasource"
   ]
  },
  {
   "cell_type": "code",
   "execution_count": 6,
   "id": "6c185377-0b77-4feb-9f78-8cb770062e6e",
   "metadata": {},
   "outputs": [],
   "source": [
    "stopwords_set = set(stopwords.words('english'))"
   ]
  },
  {
   "cell_type": "code",
   "execution_count": 7,
   "id": "1beb1cc7",
   "metadata": {},
   "outputs": [],
   "source": [
    "context_dict = {}\n",
    "def enrich_context_dict(context_dict, words, line):\n",
    "    for w in words:\n",
    "        context_dict.setdefault(w,[]).append(line)"
   ]
  },
  {
   "cell_type": "code",
   "execution_count": 8,
   "id": "e12a9f03-2ef8-4acf-800e-198377ecba5f",
   "metadata": {},
   "outputs": [],
   "source": [
    "def extract_and_clean(line, stopwords):\n",
    "    # words = [x.strip() for x in re.split(',| |\\. |\\: ', line) if x]\n",
    "    # words = map(str.lower, words)\n",
    "    # words = [x.replace('-', '') for x in words]\n",
    "    words = word_tokenize(re.sub(r'[^\\w\\s]', '', line.lower()))\n",
    "    # words = [x.replace('-', '') for x in words]\n",
    "    words = [word for word in words if not word in stopwords]\n",
    "    # ADJ, ADJ_SAT, ADV, NOUN, VERB = 'a', 's', 'r', 'n', 'v'\n",
    "    words = [lemmatizer.lemmatize(w, pos='s') for w in words]\n",
    "    words = [lemmatizer.lemmatize(w, pos='n') for w in words]\n",
    "    words = [lemmatizer.lemmatize(w, pos='v') for w in words]\n",
    "    words = [lemmatizer.lemmatize(w, pos='a') for w in words]\n",
    "    enrich_context_dict(context_dict, words, line)\n",
    "    return words"
   ]
  },
  {
   "cell_type": "code",
   "execution_count": 9,
   "id": "4c198f81",
   "metadata": {},
   "outputs": [],
   "source": [
    "def read_whitepapers(filename, stopwords):\n",
    "    directory = \"../whitepapers/top20_whitepapers/\"\n",
    "    words_list = []\n",
    "    for entry in os.scandir(directory):\n",
    "        if (entry.path.endswith(filename) and entry.is_file()):\n",
    "            with open(entry.path, \"r\") as f:\n",
    "                for line in f:\n",
    "                    # words_list.extend(line.split())\n",
    "                    # words_list.extend([x.strip() for x in line.split()])\n",
    "                    words_list.extend(extract_and_clean(line, stopwords))\n",
    "    return words_list"
   ]
  },
  {
   "cell_type": "code",
   "execution_count": 10,
   "id": "52911c9f",
   "metadata": {},
   "outputs": [
    {
     "data": {
      "text/plain": [
       "['bitcoin',\n",
       " 'peertopeer',\n",
       " 'electronic',\n",
       " 'cash',\n",
       " 'system',\n",
       " 'satoshi',\n",
       " 'nakamoto',\n",
       " 'satoshingmxcom',\n",
       " 'wwwbitcoinorg',\n",
       " 'abstract',\n",
       " 'purely',\n",
       " 'peertopeer',\n",
       " 'version',\n",
       " 'electronic',\n",
       " 'cash',\n",
       " 'would',\n",
       " 'allow',\n",
       " 'online',\n",
       " 'payment',\n",
       " 'send',\n",
       " 'directly',\n",
       " 'one',\n",
       " 'party',\n",
       " 'another',\n",
       " 'without',\n",
       " 'go',\n",
       " 'financial',\n",
       " 'institution',\n",
       " 'digital',\n",
       " 'signature',\n",
       " 'provide',\n",
       " 'part',\n",
       " 'solution',\n",
       " 'main',\n",
       " 'benefit',\n",
       " 'lose',\n",
       " 'trust',\n",
       " 'third',\n",
       " 'party',\n",
       " 'still',\n",
       " 'require',\n",
       " 'prevent',\n",
       " 'doublespending',\n",
       " 'propose',\n",
       " 'solution',\n",
       " 'doublespending',\n",
       " 'problem',\n",
       " 'use',\n",
       " 'peertopeer',\n",
       " 'network']"
      ]
     },
     "execution_count": 10,
     "metadata": {},
     "output_type": "execute_result"
    }
   ],
   "source": [
    "bitcoin_filename=\"Bitcoin.txt\"\n",
    "whitepapers = read_whitepapers(bitcoin_filename, stopwords_set)\n",
    "# whitepapers.rename(columns={bitcoin_filename: \"whitepapers\"}, inplace=True)\n",
    "whitepapers[:50]"
   ]
  },
  {
   "cell_type": "code",
   "execution_count": 11,
   "id": "8584fca6",
   "metadata": {},
   "outputs": [],
   "source": [
    "filenames = ['Algorand.txt', 'Avalanche.txt', 'Binance.txt', 'Bitcoin.txt', 'Cardano.txt', 'Chainlink.txt',\n",
    "            'Crypto_com.txt', 'Ethereum.txt', 'FTX_token.txt', 'PolkaDot.txt', 'Polygon.txt', 'Ripple.txt', \n",
    "            'Solana.txt', 'Terra.txt', 'Tether.txt', 'Tron.txt', 'Uniswap.txt', 'Wrapped.txt']"
   ]
  },
  {
   "cell_type": "code",
   "execution_count": 12,
   "id": "35867a76-5ef6-4be5-b337-1b4600d079b6",
   "metadata": {},
   "outputs": [],
   "source": [
    "compiled_r = re.compile('(?<!\\S)\\d+(?!\\S)')"
   ]
  },
  {
   "cell_type": "code",
   "execution_count": 13,
   "id": "0f5ff972-0a1a-4ab3-ace2-76b8443f8331",
   "metadata": {},
   "outputs": [],
   "source": [
    "def filter_less_important_words(words):\n",
    "    tagged = pos_tag(words)\n",
    "    # Only keep verb, noun, adj\n",
    "    return [w[0] for w in tagged if w[1].startswith('N') or w[1].startswith('J') or w[1].startswith('V')]\n",
    "    # return [w for w in words if not compiled_reg.match(w)]"
   ]
  },
  {
   "cell_type": "code",
   "execution_count": 14,
   "id": "ffbb718a",
   "metadata": {},
   "outputs": [],
   "source": [
    "def creat_word_bank():\n",
    "    word_bank = {}\n",
    "    for i in filenames:\n",
    "        #deduplicate in each paper\n",
    "        deduped_words = list(set(read_whitepapers(i, stopwords_set)))\n",
    "        word_bank[i] = filter_less_important_words(deduped_words)\n",
    "    return word_bank"
   ]
  },
  {
   "cell_type": "code",
   "execution_count": 15,
   "id": "2b9df150-7ac5-4373-92d1-cdf7d37705b6",
   "metadata": {},
   "outputs": [],
   "source": [
    "word_bank = creat_word_bank()"
   ]
  },
  {
   "cell_type": "code",
   "execution_count": 16,
   "id": "20eed08e-4138-45e4-8ad1-769cb44dde94",
   "metadata": {},
   "outputs": [],
   "source": [
    "lookup_dict = {}\n",
    "\n",
    "def enrich_lookup_dict(lookup_dict, words, paper_name):\n",
    "    for w in words:\n",
    "        lookup_dict.setdefault(w,[]).append(paper_name)\n",
    "        # lookup_dict[w] = paper_name"
   ]
  },
  {
   "cell_type": "code",
   "execution_count": 17,
   "id": "17e39b53-df97-4a75-b4fa-1474dc4bc23d",
   "metadata": {},
   "outputs": [
    {
     "name": "stdout",
     "output_type": "stream",
     "text": [
      "[('system', 18), ('many', 18), ('amount', 18), ('give', 18), ('new', 18), ('number', 18), ('take', 18), ('require', 18), ('make', 18), ('paper', 18), ('exist', 17), ('start', 17), ('key', 17), ('transaction', 17), ('receive', 17), ('time', 17), ('public', 17), ('become', 17), ('follow', 17), ('use', 17), ('network', 17), ('work', 17), ('keep', 17), ('order', 17), ('include', 17), ('increase', 17), ('high', 16), ('hold', 16), ('change', 16), ('generate', 16), ('see', 16), ('send', 16), ('reference', 16), ('mean', 16), ('set', 16), ('able', 16), ('second', 16), ('base', 16), ('possible', 16), ('know', 16), ('access', 16), ('control', 16), ('simple', 16), ('case', 16), ('value', 16), ('fee', 16), ('problem', 16), ('reduce', 16), ('large', 16), ('result', 16), ('current', 16), ('share', 16), ('create', 16), ('fund', 16), ('way', 16), ('full', 15), ('update', 15), ('particular', 15), ('protocol', 15), ('future', 15), ('function', 15), ('point', 15), ('potential', 15), ('need', 15), ('private', 15), ('add', 15), ('prevent', 15), ('process', 15), ('low', 15), ('want', 15), ('le', 15), ('space', 15), ('size', 15), ('cost', 15), ('user', 15), ('provide', 15), ('limit', 15), ('issue', 15), ('get', 15), ('support', 15), ('example', 15), ('account', 15), ('solution', 15), ('loss', 15), ('represent', 15), ('currency', 15), ('data', 15), ('record', 15), ('store', 15), ('multiple', 15), ('note', 14), ('begin', 14), ('grow', 14), ('expect', 14), ('reach', 14), ('blockchain', 14), ('small', 14), ('digital', 14), ('secure', 14), ('model', 14), ('abstract', 14), ('ensure', 14), ('choose', 14), ('move', 14), ('block', 14), ('type', 14), ('combine', 14), ('describe', 14), ('part', 14), ('target', 14), ('information', 14), ('come', 14), ('distribute', 14), ('operation', 14), ('easy', 14), ('history', 14), ('rate', 14), ('design', 14), ('single', 14), ('token', 14), ('trust', 14), ('run', 14), ('consensus', 14), ('requirement', 14), ('additional', 14), ('mechanism', 14), ('risk', 14), ('call', 14), ('exchange', 14), ('entire', 14), ('maintain', 14), ('group', 14), ('security', 14), ('several', 14), ('initial', 14), ('scale', 13), ('version', 13), ('cryptocurrency', 13), ('service', 13), ('previous', 13), ('introduce', 13), ('rule', 13), ('implement', 13), ('complete', 13), ('end', 13), ('period', 13), ('achieve', 13), ('next', 13), ('vote', 13), ('total', 13), ('form', 13), ('hash', 13), ('lead', 13), ('introduction', 13), ('transfer', 13), ('state', 13), ('open', 13), ('detail', 13), ('spend', 13), ('platform', 13), ('similar', 13), ('standard', 13), ('failure', 13), ('common', 13), ('section', 13), ('asset', 13), ('source', 13), ('payment', 13), ('price', 13), ('contract', 13), ('available', 13), ('implementation', 13), ('due', 13), ('market', 13), ('event', 13), ('go', 13), ('addition', 13), ('pool', 13), ('handle', 13), ('year', 13), ('method', 13), ('show', 13), ('depend', 12), ('sign', 12), ('track', 12), ('help', 12), ('guarantee', 12), ('propose', 12), ('input', 12), ('member', 12), ('c', 12), ('condition', 12), ('participant', 12), ('u', 12), ('remain', 12), ('good', 12), ('identity', 12), ('message', 12), ('signature', 12), ('b', 12), ('stake', 12), ('participate', 12), ('power', 12), ('build', 12), ('perform', 12), ('coin', 12), ('enable', 12), ('maximum', 12), ('execute', 12), ('address', 12), ('code', 12), ('incentive', 12), ('program', 12), ('trade', 12), ('anyone', 12), ('release', 12), ('gain', 12), ('creation', 12), ('client', 12), ('certain', 12), ('prove', 12), ('ethereum', 12), ('growth', 12), ('pay', 12), ('smart', 12), ('reserve', 12), ('term', 12), ('application', 12), ('supply', 12), ('world', 12), ('ability', 12), ('global', 12), ('strong', 12), ('management', 12), ('list', 12), ('owner', 12), ('important', 12), ('improve', 12), ('bank', 12), ('interest', 12), ('feature', 12), ('face', 12), ('avoid', 12), ('put', 12), ('develop', 12), ('purchase', 12), ('look', 12), ('day', 12), ('request', 12), ('consider', 12), ('solve', 12), ('great', 12), ('proof', 12), ('structure', 12), ('primary', 12), ('produce', 11), ('traditional', 11), ('say', 11), ('let', 11), ('ie', 11), ('attack', 11), ('arbitrary', 11), ('refer', 11), ('agree', 11), ('property', 11), ('fact', 11), ('n', 11), ('necessary', 11), ('happen', 11), ('cryptographic', 11), ('blockchains', 11), ('malicious', 11), ('tool', 11), ('apply', 11), ('step', 11), ('turn', 11), ('separate', 11), ('execution', 11), ('ledger', 11), ('various', 11), ('fail', 11), ('holder', 11), ('ecosystem', 11), ('development', 11), ('others', 11), ('useful', 11), ('advantage', 11), ('core', 11), ('success', 11), ('recent', 11), ('storage', 11), ('determine', 11), ('involve', 11), ('swap', 11), ('decentralize', 11), ('role', 11), ('interface', 11), ('sell', 11), ('chain', 11), ('strategy', 11)]\n"
     ]
    }
   ],
   "source": [
    "# Single words\n",
    "agg_words = []\n",
    "for coin in word_bank:\n",
    "    agg_words.extend(word_bank[coin])\n",
    "    enrich_lookup_dict(lookup_dict, word_bank[coin], coin)\n",
    "\n",
    "single_counter = Counter(agg_words)\n",
    "print(single_counter.most_common(300))\n",
    "# print([x[0] for x in single_counter.most_common(2000)])"
   ]
  },
  {
   "cell_type": "code",
   "execution_count": 18,
   "id": "b6ac97f2-998c-4e3c-bd5e-f4026e56a2f2",
   "metadata": {},
   "outputs": [
    {
     "name": "stdout",
     "output_type": "stream",
     "text": [
      "[(('require', 'move'), 13), (('transfer', 'high'), 10), (('state', 'size'), 10), (('many', 'future'), 10), (('open', 'incentive'), 9), (('requirement', 'additional'), 9), (('make', 'share'), 9), (('base', 'prove'), 8), (('example', 'account'), 8), (('time', 'result'), 8), (('important', 'currency'), 8), (('product', 'represent'), 8), (('refer', 'guarantee'), 7), (('mean', 'v'), 7), (('necessary', 'able'), 7), (('v', 'provide'), 7), (('provide', 'trade'), 7), (('owner', 'valid'), 7), (('track', 'space'), 7), (('le', 'change'), 7), (('work', 'main'), 7), (('day', 'requirement'), 7), (('access', 'role'), 7), (('algorithm', 'keep'), 7), (('describe', 'order'), 6), (('development', 'environment'), 6), (('storage', 'limit'), 6), (('time', 'payment'), 6), (('throughput', 'chain'), 6), (('begin', 'several'), 6), (('result', 'look'), 6), (('ensure', 'sell'), 6), (('identify', 'key'), 6), (('cost', 'mine'), 6), (('order', 'describe'), 6), (('key', 'recent'), 6), (('evaluate', 'current'), 6), (('show', 'follow'), 6), (('last', 'binary'), 6), (('compare', 'bad'), 6), (('include', 'initial'), 6), (('change', 'previous'), 5), (('system', 'sign'), 5), (('update', 'introduce'), 5), (('implement', 'second'), 5), (('potential', 'participant'), 5), (('keep', 'combine'), 5), (('correct', 'act'), 5), (('detail', 'set'), 5), (('basis', 'amount'), 5), (('assumption', 'contribution'), 5), (('smart', 'doesnt'), 5), (('run', 'example'), 5), (('vision', 'price'), 5), (('price', 'consensus'), 5), (('become', 'close'), 5), (('precise', 'fork'), 5), (('use', 'enter'), 5), (('hash', 'group'), 5), (('report', 'security'), 5), (('various', 'develop'), 5), (('build', 'perform'), 5), (('information', 'burn'), 5), (('class', 'procedure'), 5), (('believe', 'many'), 5), (('second', 'join'), 5), (('take', 'slow'), 5), (('maintain', 'customer'), 5), (('paper', 'financial'), 5), (('generate', 'target'), 5), (('point', 'enough'), 5), (('risk', 'inherent'), 5), (('customer', 'owner'), 5), (('security', 'miss'), 5), (('publish', 'specify'), 5), (('solve', 'apply'), 5), (('impossible', 'algorithm'), 5), (('combine', 'likely'), 5), (('guarantee', 'notice'), 5), (('release', 'unique'), 5), (('occur', 'consider'), 5), (('solution', 'error'), 5), (('prefer', 'fund'), 5), (('oppose', 'claim'), 5), (('swap', 'charge'), 5), (('vary', 'reference'), 5), (('contract', 'extra'), 5), (('term', 'solve'), 5), (('external', 'detail'), 5), (('capability', 'important'), 5), (('process', 'hold'), 5), (('foundation', 'structure'), 5), (('direct', 'enforce'), 5), (('ethereums', 'record'), 5), (('byzantine', 'tion'), 4), (('tion', 'high'), 4), (('high', 'minute'), 4), (('player', 'version'), 4), (('diﬀerent', 'exist'), 4), (('see', 'communication'), 4), (('ratio', 'election'), 4), (('set', 'grow'), 4), (('able', 'implement'), 4), (('cryptographic', 'secure'), 4), (('control', 'separate'), 4), (('choose', 'simple'), 4), (('use', 'hash'), 4), (('original', 'require'), 4), (('process', 'scale'), 4), (('low', 'want'), 4), (('presentation', 'update'), 4), (('note', 'information'), 4), (('come', 'old'), 4), (('start', 'maximum'), 4), (('object', 'attack'), 4), (('policy', 'refer'), 4), (('oracle', 'core'), 4), (('software', 'subset'), 4), (('component', 'stable'), 4), (('adoption', 'protocol'), 4), (('second', 'first'), 4), (('platform', 'custodian'), 4), (('governance', 'special'), 4), (('get', 'new'), 4), (('double', 'launch'), 4), (('evm', 'happen'), 4), (('number', 'choice'), 4), (('decentralize', 'blockchains'), 4), (('wealth', 'abstract'), 4), (('abstract', 'world'), 4), (('payment', 'result'), 4), (('public', 'attacker'), 4), (('apis', 'global'), 4), (('mechanism', 'follow'), 4), (('list', 'robust'), 4), (('robust', 'contract'), 4), (('oﬀers', 'maintain'), 4), (('fork', 'matter'), 4), (('third', 'make'), 4), (('computational', 'aim'), 4), (('bank', 'available'), 4), (('much', 'market'), 4), (('prevent', 'fail'), 4), (('trader', 'full'), 4), (('speed', 'approach'), 4), (('mind', 'liquidity'), 4), (('today', 'platform'), 4), (('platform', 'volume'), 4), (('standard', 'plan'), 4), (('get', 'do'), 4), (('different', 'number'), 4), (('push', 'decentralize'), 4), (('world', 'rest'), 4), (('level', 'require'), 4), (('share', 'security'), 4), (('multiple', 'active'), 4), (('july', 'paper'), 4), (('order', 'due'), 4), (('sign', 'representation'), 4), (('attack', 'copy'), 4), (('channel', 'point'), 4), (('certain', 'publish'), 4), (('counterparty', 'request'), 4), (('growth', 'record'), 4), (('next', 'page'), 4), (('enforce', 'single'), 4), (('possible', 'sequence'), 4), (('x', 'include'), 4), (('step', 'run'), 4), (('conclusion', 'model'), 4), (('continue', 'strong'), 4), (('represent', 'need'), 4), (('core', 'par'), 4), (('block', 'cryptography'), 4), (('interaction', 'subject'), 4), (('framework', 'ability'), 4), (('adjust', 'annual'), 4), (('backbone', 'player'), 4), (('round', 'top'), 4), (('improvement', 'best'), 4), (('assume', 'concept'), 4), (('stake', 'intrinsic'), 4), (('input', 'address'), 4), (('provide', 'stakeholder'), 4), (('spend', 'local'), 4), (('standard', 'byte'), 4), (('reserve', 'relative'), 4), (('resource', 'buy'), 4), (('likely', 'accurate'), 4), (('tolerant', 'availability'), 4), (('promise', 'identify'), 4), (('reach', 'monitor'), 4), (('go', 'low'), 4), (('host', 'code'), 4), (('detail', 'bridge'), 4), (('remove', 'database'), 4), (('database', 'feature'), 4), (('user', 'regulation'), 4), (('good', 'sybil'), 4), (('network', 'effect'), 4), (('validator', 'power'), 4), (('do', 'new'), 4), (('digital', 'smart'), 4), (('representation', 'generate'), 4), (('send', 'interact'), 4), (('maximum', 'company'), 4), (('confirm', 'u'), 4), (('trust', 'rise'), 4), (('bad', 'wallet'), 4), (('liquidity', 'necessary'), 4), (('dedicate', 'potential'), 4), (('event', 'return'), 4), (('deposit', 'leaf'), 4), (('circulation', 'message'), 4), (('purpose', 'distribute'), 4), (('method', 'complex'), 4), (('equal', 'validate'), 4), (('look', 'turn'), 4), (('public', 'tree'), 4), (('instance', 'eg'), 4), (('protocol', 'gain'), 4), (('say', 'round'), 3), (('complexity', 'diﬀerent'), 3), (('introduce', 'generate'), 3), (('generate', 'scheme'), 3), (('start', 'p'), 3), (('arbitrary', 'signer'), 3), (('random', 'ratio'), 3), (('agree', 'propose'), 3), (('rule', 'input'), 3), (('input', 'speed'), 3), (('fact', 'unique'), 3), (('grow', 'protocol'), 3), (('proposal', 'many'), 3), (('ﬁxed', 'period'), 3), (('condition', 'amount'), 3), (('expect', 'base'), 3), (('cryptocurrencies', 'cryptographic'), 3), (('fast', 'receive'), 3), (('extension', 'model'), 3), (('reset', 'private'), 3), (('eﬃcient', 'signature'), 3), (('hold', 'motivate'), 3), (('holder', 'say'), 3), (('proofofwork', 'coin'), 3), (('notation', 'others'), 3), (('focus', 'policy'), 3), (('problem', 'operation'), 3), (('operation', 'big'), 3), (('rule', 'validators'), 3)]\n"
     ]
    }
   ],
   "source": [
    "#2-gram counter\n",
    "agg_words_2gram = []\n",
    "for coin in word_bank:\n",
    "    words = list(ngrams(word_bank[coin], 2))\n",
    "    agg_words_2gram.extend(words)\n",
    "    enrich_lookup_dict(lookup_dict, words, coin)\n",
    "\n",
    "two_gram_counter = Counter(agg_words_2gram)\n",
    "print(two_gram_counter.most_common(250))\n",
    "# print([x[0] for x in two_gram_counter.most_common(300)])"
   ]
  },
  {
   "cell_type": "code",
   "execution_count": 19,
   "id": "9873bd4b-c3fb-4ec1-9d82-fe05dfdcc0a4",
   "metadata": {},
   "outputs": [],
   "source": [
    "# print(lookup_dict)"
   ]
  },
  {
   "cell_type": "code",
   "execution_count": 20,
   "id": "26076b59-2a9e-40c4-a290-a669fc7d340b",
   "metadata": {},
   "outputs": [
    {
     "name": "stdout",
     "output_type": "stream",
     "text": [
      "[(('day', 'requirement', 'additional'), 6), (('run', 'example', 'account'), 5), (('capability', 'important', 'currency'), 5), (('time', 'payment', 'result'), 4), (('precise', 'fork', 'matter'), 4), (('mean', 'v', 'provide'), 4), (('implement', 'second', 'join'), 4), (('time', 'result', 'look'), 4), (('make', 'share', 'security'), 4), (('channel', 'point', 'enough'), 4), (('maintain', 'customer', 'owner'), 4), (('refer', 'guarantee', 'notice'), 4), (('identify', 'key', 'recent'), 4), (('liquidity', 'necessary', 'able'), 4), (('impossible', 'algorithm', 'keep'), 4), (('result', 'look', 'turn'), 4), (('complexity', 'diﬀerent', 'exist'), 3), (('update', 'introduce', 'generate'), 3), (('able', 'implement', 'second'), 3), (('cryptocurrencies', 'cryptographic', 'secure'), 3), (('transfer', 'high', 'minute'), 3), (('focus', 'policy', 'refer'), 3), (('v', 'provide', 'trade'), 3), (('decentralize', 'blockchains', 'large'), 3), (('additional', 'mechanism', 'follow'), 3), (('list', 'robust', 'contract'), 3), (('use', 'enter', 'hash'), 3), (('feature', 'describe', 'order'), 3), (('class', 'procedure', 'help'), 3), (('believe', 'many', 'future'), 3), (('world', 'rest', 'way'), 3), (('counterparty', 'request', 'distribution'), 3), (('get', 'pool', 'new'), 3), (('level', 'require', 'move'), 3), (('development', 'environment', 'towards'), 3), (('backbone', 'player', 'version'), 3), (('invite', 'decision', 'imply'), 3), (('last', 'binary', 'fair'), 3), (('binary', 'fair', 'work'), 3), (('remove', 'database', 'feature'), 3), (('open', 'incentive', 'pattern'), 3), (('term', 'solve', 'apply'), 3), (('algorithm', 'keep', 'combine'), 3), (('keep', 'combine', 'likely'), 3), (('combine', 'likely', 'accurate'), 3), (('boost', 'external', 'detail'), 3), (('reddit', 'require', 'move'), 3), (('describe', 'order', 'due'), 3), (('many', 'future', 'limitation'), 3), (('growth', 'ethereums', 'record'), 3), (('entire', 'foundation', 'structure'), 3), (('continue', 'product', 'represent'), 3), (('product', 'represent', 'need'), 3), (('external', 'detail', 'bridge'), 3), (('compare', 'bad', 'wallet'), 3), (('le', 'change', 'previous'), 3), (('option', 'hash', 'group'), 3), (('byzantine', 'tion', 'high'), 2), (('random', 'ratio', 'election'), 2), (('rule', 'input', 'speed'), 2), (('tolerate', 'condition', 'amount'), 2), (('use', 'hash', 'analysis'), 2), (('actual', 'original', 'require'), 2), (('original', 'require', 'move'), 2), (('ownership', 'transfer', 'high'), 2), (('presentation', 'update', 'introduce'), 2), (('note', 'information', 'goal'), 2), (('knowledge', 'useful', 'particular'), 2), (('policy', 'refer', 'guarantee'), 2), (('oracle', 'core', 'code'), 2), (('open', 'incentive', 'software'), 2), (('incentive', 'software', 'subset'), 2), (('mean', 'forwardlooking', 'v'), 2), (('forwardlooking', 'v', 'provide'), 2), (('provide', 'trade', 'discussion'), 2), (('fact', 'detail', 'set'), 2), (('proposal', 'many', 'future'), 2), (('able', 'poa', 'second'), 2), (('poa', 'second', 'first'), 2), (('function', 'denominate', 'key'), 2), (('care', 'history', 'expect'), 2), (('history', 'expect', 'base'), 2), (('ethereum', 'compensation', 'growth'), 2), (('compensation', 'growth', 'response'), 2), (('next', 'section', 'view'), 2), (('mark', 'extract', 'architecture'), 2), (('major', 'delegate', 'conclusion'), 2), (('delegate', 'conclusion', 'project'), 2), (('wealth', 'abstract', 'world'), 2), (('extend', 'public', 'attacker'), 2), (('vision', 'price', 'consensus'), 2), (('grind', 'become', 'close'), 2), (('strategy', 'apis', 'global'), 2), (('lock', 'requirement', 'additional'), 2), (('requirement', 'additional', 'mechanism'), 2), (('primitive', 'oﬀers', 'maintain'), 2), (('owner', 'valid', 'case'), 2), (('enter', 'hash', 'group'), 2), (('share', 'report', 'security'), 2), (('report', 'security', 'membership'), 2), (('work', 'diﬀerence', 'main'), 2), (('lead', 'engage', 'type'), 2), (('destroy', 'timeframes', 'introduction'), 2), (('introduction', 'much', 'market'), 2), (('much', 'market', 'avoid'), 2), (('mainnet', 'reason', 'stake'), 2), (('top', 'revenue', 'otc'), 2), (('user', 'infrastructure', 'member'), 2), (('today', 'platform', 'volume'), 2), (('competition', 'cofounder', 'standard'), 2), (('cofounder', 'standard', 'plan'), 2), (('clear', 'miner', 'give'), 2), (('innovative', 'serve', 'asset'), 2), (('remain', 'mark', 'architecture'), 2), (('responsibility', 'initial', 'receive'), 2), (('price', 'collect', 'earn'), 2), (('become', 'close', 'business'), 2), (('business', 'deep', 'instant'), 2), (('popular', 'ensure', 'sell'), 2), (('take', 'slow', 'maintain'), 2), (('slow', 'maintain', 'customer'), 2), (('important', 'currency', 'binary'), 2), (('july', 'paper', 'financial'), 2), (('order', 'due', 'usd'), 2), (('system', 'sign', 'representation'), 2), (('see', 'document', 'communication'), 2), (('size', 'satisfy', 'attack'), 2), (('believe', 'many', 'central'), 2), (('success', 'able', 'implement'), 2), (('scenario', 'counterparty', 'request'), 2), (('determine', 'happen', 'handle'), 2), (('digital', 'witness', 'ongoing'), 2), (('tell', 'x', 'include'), 2), (('gold', 'conclusion', 'model'), 2), (('tree', 'consensus', 'collect'), 2), (('business', 'ability', 'invalid'), 2), (('represent', 'need', 'aware'), 2), (('control', 'separate', 'exchange'), 2), (('customer', 'owner', 'valid'), 2), (('network', 'reveal', 'gap'), 2), (('work', 'main', 'lead'), 2), (('catch', 'paper', 'financial'), 2), (('element', 'think', 'few'), 2), (('ﬁrst', 'cost', 'mine'), 2), (('consult', 'core', 'par'), 2), (('core', 'par', 'settlement'), 2), (('program', 'nothing', 'assist'), 2), (('publish', 'specify', 'miner'), 2), (('base', 'prove', 'endorsement'), 2), (('determine', 'outcome', 'handle'), 2)]\n"
     ]
    }
   ],
   "source": [
    "#3-gram counter\n",
    "agg_words_3gram = []\n",
    "for coin in word_bank:\n",
    "    words = list(ngrams(word_bank[coin], 3))\n",
    "    agg_words_3gram.extend(words)\n",
    "    enrich_lookup_dict(lookup_dict, words, coin)\n",
    "\n",
    "three_gram_counter = Counter(agg_words_3gram)\n",
    "print(three_gram_counter.most_common(150))\n",
    "# print([x[0] for x in three_gram_counter.most_common(300)])"
   ]
  },
  {
   "cell_type": "code",
   "execution_count": 21,
   "id": "60b3d30c-decd-41ea-a1d7-791c413e6ef9",
   "metadata": {},
   "outputs": [
    {
     "name": "stdout",
     "output_type": "stream",
     "text": [
      "[(('last', 'binary', 'fair', 'work'), 3), (('time', 'result', 'look', 'turn'), 3), (('ownership', 'transfer', 'high', 'minute'), 2), (('focus', 'policy', 'refer', 'guarantee'), 2), (('mean', 'forwardlooking', 'v', 'provide'), 2), (('able', 'poa', 'second', 'first'), 2), (('care', 'history', 'expect', 'base'), 2), (('ethereum', 'compensation', 'growth', 'response'), 2), (('lock', 'requirement', 'additional', 'mechanism'), 2), (('requirement', 'additional', 'mechanism', 'follow'), 2), (('use', 'enter', 'hash', 'group'), 2), (('introduction', 'much', 'market', 'avoid'), 2), (('able', 'implement', 'second', 'join'), 2), (('competition', 'cofounder', 'standard', 'plan'), 2), (('take', 'slow', 'maintain', 'customer'), 2), (('scenario', 'counterparty', 'request', 'distribution'), 2), (('consult', 'core', 'par', 'settlement'), 2), (('facilitate', 'do', 'get', 'new'), 2), (('prototype', 'refer', 'guarantee', 'notice'), 2), (('censorship', 'avoid', 'game', 'contain'), 2), (('mean', 'v', 'provide', 'stakeholder'), 2), (('substitute', 'propagation', 'chain', 'continue'), 2), (('likely', 'accurate', 'tolerant', 'availability'), 2), (('progress', 'regulatory', 'compromise', 'pending'), 2), (('nonce', 'last', 'binary', 'fair'), 2), (('minimal', 'true', 'trader', 'full'), 2), (('good', 'sybil', 'upload', 'cryptographic'), 2), (('btc', 'optimize', 'large', 'phone'), 2), (('owner', 'valid', 'collaborate', 'private'), 2), (('network', 'effect', 'month', 'block'), 2), (('aim', 'allocate', 'spoof', 'variety'), 2), (('algorithm', 'keep', 'combine', 'likely'), 2), (('keep', 'combine', 'likely', 'accurate'), 2), (('boost', 'external', 'detail', 'desktop'), 2), (('promise', 'identify', 'key', 'recent'), 2), (('cryptocurrency', 'go', 'low', 'want'), 2), (('hand', 'deposit', 'leaf', 'malicious'), 2), (('assure', 'day', 'requirement', 'additional'), 2), (('regard', 'status', 'owner', 'valid'), 2), (('owner', 'valid', 'reset', 'private'), 2), (('impossible', 'algorithm', 'keep', 'combine'), 2), (('predict', 'satisfy', 'others', 'particular'), 2), (('satisfy', 'others', 'particular', 'understand'), 2), (('many', 'future', 'limitation', 'reward'), 2), (('security', 'miss', 'membership', 'create'), 2), (('capability', 'important', 'currency', 'lead'), 2), (('sign', 'representation', 'generate', 'see'), 2), (('circulation', 'message', 'gold', 'major'), 2), (('process', 'hold', 'accomplish', 'bounty'), 2), (('design', 'confirmation', 'efficient', 'blockchain'), 2), (('different', 'programmer', 'short', 'pay'), 2), (('receive', 'example', 'stateful', 'application'), 2), (('loss', 'sure', 'time', 'result'), 2), (('sure', 'time', 'result', 'look'), 2), (('implement', 'second', 'join', 'spend'), 2), (('include', 'initial', 'fast', 'receive'), 2), (('continue', 'product', 'represent', 'need'), 2), (('feature', 'describe', 'order', 'due'), 2), (('success', 'implement', 'second', 'join'), 2), (('counterparty', 'request', 'distribution', 'issue'), 2), (('pool', 'suﬃcient', 'new', 'question'), 2), (('make', 'share', 'security', 'june'), 2), (('protect', 'event', 'return', 'concept'), 2), (('class', 'procedure', 'help', 'outline'), 2), (('channel', 'point', 'enough', 'array'), 2), (('technology', 'price', 'consensus', 'jurisdiction'), 2), (('price', 'consensus', 'jurisdiction', 'earn'), 2), (('consensus', 'jurisdiction', 'earn', 'incentivization'), 2), (('bound', 'produce', 'byzantine', 'tion'), 1), (('produce', 'byzantine', 'tion', 'high'), 1), (('byzantine', 'tion', 'high', 'minute'), 1), (('tion', 'high', 'minute', 'optimal'), 1), (('high', 'minute', 'optimal', 'st1'), 1), (('minute', 'optimal', 'st1', 'pcid481'), 1), (('optimal', 'st1', 'pcid481', 'traditional'), 1), (('st1', 'pcid481', 'traditional', 'optimality'), 1), (('pcid481', 'traditional', 'optimality', 'depend'), 1), (('traditional', 'optimality', 'depend', 'deliver'), 1), (('optimality', 'depend', 'deliver', 'clock'), 1), (('depend', 'deliver', 'clock', 'description'), 1), (('deliver', 'clock', 'description', 'temporary'), 1), (('clock', 'description', 'temporary', 'desire'), 1), (('description', 'temporary', 'desire', 'simplify'), 1), (('temporary', 'desire', 'simplify', 'brieﬂy'), 1), (('desire', 'simplify', 'brieﬂy', 'progress'), 1), (('simplify', 'brieﬂy', 'progress', 'scale'), 1), (('brieﬂy', 'progress', 'scale', 'cardinality'), 1), (('progress', 'scale', 'cardinality', 'hold'), 1), (('scale', 'cardinality', 'hold', 'sosp'), 1), (('cardinality', 'hold', 'sosp', 'georgios'), 1), (('hold', 'sosp', 'georgios', 'symbol'), 1), (('sosp', 'georgios', 'symbol', 'certvotes'), 1), (('georgios', 'symbol', 'certvotes', 'cid54'), 1), (('symbol', 'certvotes', 'cid54', 'permissioned'), 1), (('certvotes', 'cid54', 'permissioned', 'player'), 1), (('cid54', 'permissioned', 'player', 'version'), 1), (('permissioned', 'player', 'version', 'say'), 1), (('player', 'version', 'say', 'round'), 1), (('version', 'say', 'round', 'cryptocurrency'), 1), (('say', 'round', 'cryptocurrency', 'let'), 1), (('round', 'cryptocurrency', 'let', 'vlachos'), 1), (('cryptocurrency', 'let', 'vlachos', 'interval'), 1), (('let', 'vlachos', 'interval', 'onceallhonestusersstartthesameperiodpwithintimeλapartwearebackinthenopartition'), 1), (('vlachos', 'interval', 'onceallhonestusersstartthesameperiodpwithintimeλapartwearebackinthenopartition', 'complexity'), 1), (('interval', 'onceallhonestusersstartthesameperiodpwithintimeλapartwearebackinthenopartition', 'complexity', 'diﬀerent'), 1), (('onceallhonestusersstartthesameperiodpwithintimeλapartwearebackinthenopartition', 'complexity', 'diﬀerent', 'exist'), 1), (('complexity', 'diﬀerent', 'exist', 'loop'), 1), (('diﬀerent', 'exist', 'loop', 'service'), 1), (('exist', 'loop', 'service', 'conceptual'), 1), (('loop', 'service', 'conceptual', 'protocol1'), 1), (('service', 'conceptual', 'protocol1', 'timer'), 1), (('conceptual', 'protocol1', 'timer', 'full'), 1), (('protocol1', 'timer', 'full', 'change'), 1), (('timer', 'full', 'change', 'previous'), 1), (('full', 'change', 'previous', 'system'), 1), (('change', 'previous', 'system', 'sign'), 1), (('previous', 'system', 'sign', 'update'), 1), (('system', 'sign', 'update', 'introduce'), 1), (('sign', 'update', 'introduce', 'generate'), 1), (('update', 'introduce', 'generate', 'scheme'), 1), (('introduce', 'generate', 'scheme', 'sig'), 1), (('generate', 'scheme', 'sig', 'see'), 1), (('scheme', 'sig', 'see', 'communication'), 1), (('sig', 'see', 'communication', 'note'), 1), (('see', 'communication', 'note', 'recover'), 1), (('communication', 'note', 'recover', 'cid96p'), 1), (('note', 'recover', 'cid96p', 'replaceability'), 1), (('recover', 'cid96p', 'replaceability', 'try'), 1), (('cid96p', 'replaceability', 'try', 'string'), 1), (('replaceability', 'try', 'string', 'compare'), 1), (('try', 'string', 'compare', 'send'), 1), (('string', 'compare', 'send', 'delivery'), 1), (('compare', 'send', 'delivery', 'select'), 1), (('send', 'delivery', 'select', 'ephemeral'), 1), (('delivery', 'select', 'ephemeral', 'corrupt'), 1), (('select', 'ephemeral', 'corrupt', 'georgiosalgorandcom'), 1), (('ephemeral', 'corrupt', 'georgiosalgorandcom', 'arxiv'), 1), (('corrupt', 'georgiosalgorandcom', 'arxiv', 'track'), 1), (('georgiosalgorandcom', 'arxiv', 'track', 'clarity'), 1), (('arxiv', 'track', 'clarity', 'jing'), 1), (('track', 'clarity', 'jing', 'democratic'), 1), (('clarity', 'jing', 'democratic', 'help'), 1), (('jing', 'democratic', 'help', 'start'), 1), (('democratic', 'help', 'start', 'p'), 1), (('help', 'start', 'p', 'ie'), 1), (('start', 'p', 'ie', 'democoin'), 1), (('p', 'ie', 'democoin', 'aevenifdiﬀerentusersstartperiod1hoursapartintimeitisasifthenetworkhasbeenpartitionedandonce'), 1), (('ie', 'democoin', 'aevenifdiﬀerentusersstartperiod1hoursapartintimeitisasifthenetworkhasbeenpartitionedandonce', 'notation'), 1), (('democoin', 'aevenifdiﬀerentusersstartperiod1hoursapartintimeitisasifthenetworkhasbeenpartitionedandonce', 'notation', 'attack'), 1), (('aevenifdiﬀerentusersstartperiod1hoursapartintimeitisasifthenetworkhasbeenpartitionedandonce', 'notation', 'attack', 'argmin'), 1)]\n"
     ]
    }
   ],
   "source": [
    "#4-gram counter\n",
    "agg_words_4gram = []\n",
    "for coin in word_bank:\n",
    "    words = list(ngrams(word_bank[coin], 4))\n",
    "    agg_words_4gram.extend(words)\n",
    "    enrich_lookup_dict(lookup_dict, words, coin)\n",
    "\n",
    "four_gram_counter = Counter(agg_words_4gram)\n",
    "print(four_gram_counter.most_common(150))\n",
    "# print([x[0] for x in four_gram_counter.most_common(100)])"
   ]
  },
  {
   "cell_type": "code",
   "execution_count": 29,
   "id": "22160eed-d11e-43d6-bdf0-915b7e143f85",
   "metadata": {},
   "outputs": [
    {
     "ename": "KeyError",
     "evalue": "('store', 'ie', 'creation', 'lead')",
     "output_type": "error",
     "traceback": [
      "\u001b[0;31m---------------------------------------------------------------------------\u001b[0m",
      "\u001b[0;31mKeyError\u001b[0m                                  Traceback (most recent call last)",
      "\u001b[0;32m<ipython-input-29-f5b21e2f5267>\u001b[0m in \u001b[0;36m<module>\u001b[0;34m()\u001b[0m\n\u001b[0;32m----> 1\u001b[0;31m \u001b[0mprint\u001b[0m\u001b[0;34m(\u001b[0m\u001b[0mlookup_dict\u001b[0m\u001b[0;34m[\u001b[0m\u001b[0;34m(\u001b[0m\u001b[0;34m'store'\u001b[0m\u001b[0;34m,\u001b[0m \u001b[0;34m'ie'\u001b[0m\u001b[0;34m,\u001b[0m \u001b[0;34m'creation'\u001b[0m\u001b[0;34m,\u001b[0m \u001b[0;34m'lead'\u001b[0m\u001b[0;34m)\u001b[0m\u001b[0;34m]\u001b[0m\u001b[0;34m)\u001b[0m\u001b[0;34m\u001b[0m\u001b[0m\n\u001b[0m",
      "\u001b[0;31mKeyError\u001b[0m: ('store', 'ie', 'creation', 'lead')"
     ]
    }
   ],
   "source": [
    "print(lookup_dict[('store', 'ie', 'creation', 'lead')])"
   ]
  },
  {
   "cell_type": "code",
   "execution_count": 30,
   "id": "5e02cce9-91a1-4f94-a792-f7bc4d931de5",
   "metadata": {},
   "outputs": [
    {
     "ename": "KeyError",
     "evalue": "('secure', 'vision', 'ensure', 'state')",
     "output_type": "error",
     "traceback": [
      "\u001b[0;31m---------------------------------------------------------------------------\u001b[0m",
      "\u001b[0;31mKeyError\u001b[0m                                  Traceback (most recent call last)",
      "\u001b[0;32m<ipython-input-30-b3265d5bd242>\u001b[0m in \u001b[0;36m<module>\u001b[0;34m()\u001b[0m\n\u001b[0;32m----> 1\u001b[0;31m \u001b[0mprint\u001b[0m\u001b[0;34m(\u001b[0m\u001b[0mlookup_dict\u001b[0m\u001b[0;34m[\u001b[0m\u001b[0;34m(\u001b[0m\u001b[0;34m'secure'\u001b[0m\u001b[0;34m,\u001b[0m \u001b[0;34m'vision'\u001b[0m\u001b[0;34m,\u001b[0m \u001b[0;34m'ensure'\u001b[0m\u001b[0;34m,\u001b[0m \u001b[0;34m'state'\u001b[0m\u001b[0;34m)\u001b[0m\u001b[0;34m]\u001b[0m\u001b[0;34m)\u001b[0m\u001b[0;34m\u001b[0m\u001b[0m\n\u001b[0m",
      "\u001b[0;31mKeyError\u001b[0m: ('secure', 'vision', 'ensure', 'state')"
     ]
    }
   ],
   "source": [
    "print(lookup_dict[('secure', 'vision', 'ensure', 'state')])"
   ]
  },
  {
   "cell_type": "code",
   "execution_count": 31,
   "id": "8d3d484b-3bae-4685-8820-391d712dfac0",
   "metadata": {},
   "outputs": [
    {
     "ename": "KeyError",
     "evalue": "('uniswap', 'mandatory')",
     "output_type": "error",
     "traceback": [
      "\u001b[0;31m---------------------------------------------------------------------------\u001b[0m",
      "\u001b[0;31mKeyError\u001b[0m                                  Traceback (most recent call last)",
      "\u001b[0;32m<ipython-input-31-f44ab484e60c>\u001b[0m in \u001b[0;36m<module>\u001b[0;34m()\u001b[0m\n\u001b[0;32m----> 1\u001b[0;31m \u001b[0mprint\u001b[0m\u001b[0;34m(\u001b[0m\u001b[0mlookup_dict\u001b[0m\u001b[0;34m[\u001b[0m\u001b[0;34m(\u001b[0m\u001b[0;34m'uniswap'\u001b[0m\u001b[0;34m,\u001b[0m \u001b[0;34m'mandatory'\u001b[0m\u001b[0;34m)\u001b[0m\u001b[0;34m]\u001b[0m\u001b[0;34m)\u001b[0m\u001b[0;34m\u001b[0m\u001b[0m\n\u001b[0m",
      "\u001b[0;31mKeyError\u001b[0m: ('uniswap', 'mandatory')"
     ]
    }
   ],
   "source": [
    "print(lookup_dict[('uniswap', 'mandatory')])"
   ]
  },
  {
   "cell_type": "code",
   "execution_count": 23,
   "id": "1ccdc8da-b3d2-4c72-b9d4-ad3f97d0df3c",
   "metadata": {},
   "outputs": [
    {
     "name": "stdout",
     "output_type": "stream",
     "text": [
      "['Bitcoin.txt', 'Ethereum.txt', 'Solana.txt', 'Tron.txt']\n"
     ]
    }
   ],
   "source": [
    "print(lookup_dict['sha256'])"
   ]
  },
  {
   "cell_type": "code",
   "execution_count": 24,
   "id": "f6716d1b-0f1b-4e7b-b030-04815e71e96b",
   "metadata": {},
   "outputs": [
    {
     "name": "stdout",
     "output_type": "stream",
     "text": [
      "['Avalanche.txt', 'Bitcoin.txt', 'Cardano.txt', 'Chainlink.txt', 'Ethereum.txt', 'PolkaDot.txt']\n"
     ]
    }
   ],
   "source": [
    "print(lookup_dict['proofofwork'])"
   ]
  },
  {
   "cell_type": "code",
   "execution_count": 25,
   "id": "03fcd5bb-8914-437c-a2fc-9b42f43c98ce",
   "metadata": {},
   "outputs": [
    {
     "name": "stdout",
     "output_type": "stream",
     "text": [
      "['Avalanche.txt', 'Cardano.txt', 'Chainlink.txt', 'Ethereum.txt', 'PolkaDot.txt', 'Polygon.txt']\n"
     ]
    }
   ],
   "source": [
    "print(lookup_dict['proofofstake'])"
   ]
  },
  {
   "cell_type": "code",
   "execution_count": 26,
   "id": "c18d5f46",
   "metadata": {},
   "outputs": [
    {
     "name": "stdout",
     "output_type": "stream",
     "text": [
      "['of the system. In almost every proof-of-stake protocol that attempts to scale to a large participant set,\\n', 'of Sybil deterrence mechanisms that span proof-of-work (PoW), proof-of-stake (PoS), proof-of-elapsed-time\\n', 'proof-of-stake, because it is green, accessible, and open to all. We note, however, that while the $AVAX uses\\n', 'Ouroboros: A Provably Secure Proof-of-Stake Blockchain Protocol\\n', 'Ouroboros genesis: Composable proof-of-stake blockchains with dynamic availability. In\\n', 'praos: An adaptively-secure, semi-synchronous proof-of-stake protocol. IACR Cryptology\\n', 'blockchain, e.g., in Proof-of-Stake systems in which committees are selected to execute\\n', 'require the majority of hash power to be honest, Proof-of-Stake systems typically re-\\n', 'of-work, proof-of-stake, and permissioned systems are susceptible to prospective\\n', '[204] Tezos. Proof-of-Stake in Tezos. https://tezos.gitlab.io/whitedoc/proof_of_stake.\\n', 'ble in and can impact the security of proof-of-work, proof-of-stake, and permissioned\\n', 'In proof-of-work and proof-of-stake blockchains, a prospective briber commits to\\n', 'approach has been proposed called proof-of-stake, calculating the weight of a node as being proportional\\n', 'Note that in the future, it is likely that Ethereum will switch to a proof-of-stake model for security, reducing\\n', 'process. Rather they are independent “bounty hunters” through a Nominated Proof-of-Stake (NPoS) scheme. In-\\n', 'Proof-of-stake chain: Extending the consensus mechanism into proof-of-stake territory; this module includes\\n', 'Proof-of-stake chain: Extending the consensus mechanism into proof-of-stake territory; this module includes\\n', 'integration with the proof-of-stake chain, allowing the parachain to gain consensus without its own internal\\n', 'PoS (Proof-of-Stake) based blockchains try to counter these limitations using a staking mechanism, but\\n']\n"
     ]
    }
   ],
   "source": [
    "print(context_dict['proofofstake'])"
   ]
  },
  {
   "cell_type": "code",
   "execution_count": 28,
   "id": "bfd8cf53",
   "metadata": {},
   "outputs": [
    {
     "name": "stdout",
     "output_type": "stream",
     "text": [
      "['hash-based proof-of-work, forming a record that cannot be changed without redoing \\n', 'the proof-of-work.  The longest chain not only serves as proof of the sequence of \\n', 'proof-of-work chain as proof of what happened while they were gone.\\n', '4. Proof-of-Work\\n', 'The proof-of-work involves scanning for a value that when hashed, such as with SHA-256, the \\n', 'For our timestamp network, we implement the proof-of-work by incrementing a nonce in the \\n', 'effort has been expended to make it satisfy the proof-of-work, the block cannot be changed \\n', 'The proof-of-work also solves the problem of determining representation in majority decision \\n', 'able to allocate many IPs.  Proof-of-work is essentially one-CPU-one-vote.  The majority \\n', 'decision is represented by the longest chain, which has the greatest proof-of-work effort invested \\n', 'redo the proof-of-work of the block and all blocks after it and then catch up with and surpass the \\n', 'the proof-of-work difficulty is determined by a moving average targeting an average number of \\n', '3) Each node works on finding a difficult proof-of-work for its block.\\n', '4) When a node finds a proof-of-work, it broadcasts the block to all nodes.\\n', 'a copy of the block headers of the longest proof-of-work chain, which he can get by querying \\n', 'Longest Proof-of-Work Chain\\n', 'proposed a peer-to-peer network using proof-of-work to record a public history of transactions \\n', 'leave and rejoin the network at will, accepting the proof-of-work chain as proof of what \\n', 'of Sybil deterrence mechanisms that span proof-of-work (PoW), proof-of-stake (PoS), proof-of-elapsed-time\\n', 'price move over a small time frame can render the system inoperable. Proof-of-work inherently selects for\\n', 'hash-based proof-of-work, forming a record that cannot be changed without redoing \\n', 'the proof-of-work.  The longest chain not only serves as proof of the sequence of \\n', 'proof-of-work chain as proof of what happened while they were gone.\\n', '4. Proof-of-Work\\n', 'The proof-of-work involves scanning for a value that when hashed, such as with SHA-256, the \\n', 'For our timestamp network, we implement the proof-of-work by incrementing a nonce in the \\n', 'effort has been expended to make it satisfy the proof-of-work, the block cannot be changed \\n', 'The proof-of-work also solves the problem of determining representation in majority decision \\n', 'able to allocate many IPs.  Proof-of-work is essentially one-CPU-one-vote.  The majority \\n', 'decision is represented by the longest chain, which has the greatest proof-of-work effort invested \\n', 'redo the proof-of-work of the block and all blocks after it and then catch up with and surpass the \\n', 'the proof-of-work difficulty is determined by a moving average targeting an average number of \\n', '3) Each node works on finding a difficult proof-of-work for its block.\\n', '4) When a node finds a proof-of-work, it broadcasts the block to all nodes.\\n', 'a copy of the block headers of the longest proof-of-work chain, which he can get by querying \\n', 'Longest Proof-of-Work Chain\\n', 'proposed a peer-to-peer network using proof-of-work to record a public history of transactions \\n', 'leave and rejoin the network at will, accepting the proof-of-work chain as proof of what \\n', 'pools in proof-of-work blockchain protocols).\\n', 'when it is not in their ﬁnancial interest to do so. Proof-of-Work systems typically\\n', 'ble in and can impact the security of proof-of-work, proof-of-stake, and permissioned\\n', 'In proof-of-work and proof-of-stake blockchains, a prospective briber commits to\\n', 'algorithm for keeping track of who owns coins, known as \"proof-of-work\".\\n', 'The mechanism behind proof-of-work was a breakthrough in the space because it simultaneously solved\\n', '3.  Check that the proof-of-work on the block is valid.\\n', 'for \"proof-of-work\". The precise condition is that the double-SHA256 hash of every block, treated as a\\n', 'old one. Because the block data is different, this requires redoing the proof-of-work. Furthermore, the\\n', 'block (almost certainly with an invalid proof-of-work).\\n', 'class of nodes to exist, called \"light nodes\", which download the block headers, verify the proof-of-work\\n', '4.  Check that the proof-of-work on the block is valid.\\n', 'jargon, \"uncles\") are added to the calculation of which block has the largest total proof-of-work backing\\n', 'This applies equally to both proof-of-work (PoW) sys-\\n']\n"
     ]
    }
   ],
   "source": [
    "print(context_dict['proofofwork'])"
   ]
  },
  {
   "cell_type": "code",
   "execution_count": null,
   "id": "a64c28a6",
   "metadata": {},
   "outputs": [],
   "source": []
  }
 ],
 "metadata": {
  "kernelspec": {
   "display_name": "Python 3",
   "language": "python",
   "name": "python3"
  },
  "language_info": {
   "codemirror_mode": {
    "name": "ipython",
    "version": 3
   },
   "file_extension": ".py",
   "mimetype": "text/x-python",
   "name": "python",
   "nbconvert_exporter": "python",
   "pygments_lexer": "ipython3",
   "version": "3.6.6"
  }
 },
 "nbformat": 4,
 "nbformat_minor": 5
}
